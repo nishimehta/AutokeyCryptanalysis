{
 "cells": [
  {
   "cell_type": "code",
   "execution_count": 2,
   "metadata": {
    "collapsed": false
   },
   "outputs": [],
   "source": [
    "from ngram_score import ngram_score\n",
    "from pycipher import Autokey\n",
    "import re\n",
    "from itertools import permutations\n",
    "\n",
    "\n",
    "qgram = ngram_score('english_quadgrams.txt')\n",
    "trigram = ngram_score('english_trigrams.txt')\n",
    "#ctext = 'isjiqymdebvuzrvwhmvysibugzhyinmiyeiklcvioimbninyksmmnjmgalvimlhspjxmgfiraqlhjcpvolqmnyynhpdetoxemgnoxl'\n",
    "\n",
    "\n",
    "# keep a list of the N best things we have seen, discard anything else\n",
    "class nbest(object):\n",
    "    def __init__(self,N=1000):\n",
    "        self.store = []\n",
    "        self.N = N\n",
    "        \n",
    "    def add(self,item):\n",
    "        self.store.append(item)\n",
    "        self.store.sort(reverse=True)\n",
    "        self.store = self.store[:self.N]\n",
    "    \n",
    "    def __getitem__(self,k):\n",
    "        return self.store[k]\n",
    "\n",
    "    def __len__(self):\n",
    "        return len(self.store)\n",
    "\n",
    "#init\n",
    "def autokey_cryptanalysis(keylen,ciphertext):\n",
    "    pscore=0\n",
    "    ctext = re.sub(r'[^A-Z]','',ciphertext.upper())\n",
    "    N=100\n",
    "    for KLEN in range(3,keylen):\n",
    "        rec = nbest(N)\n",
    "\n",
    "        for i in permutations('ABCDEFGHIJKLMNOPQRSTUVWXYZ',3):\n",
    "            key = ''.join(i) + 'A'*(KLEN-len(i))\n",
    "            pt = Autokey(key).decipher(ctext)\n",
    "            score = 0\n",
    "            for j in range(0,len(ctext),KLEN):\n",
    "                score += trigram.score(pt[j:j+3])\n",
    "            rec.add((score,''.join(i),pt[:30]))\n",
    "\n",
    "        next_rec = nbest(N)\n",
    "        for i in range(0,KLEN-3):\n",
    "            for k in range(N):\n",
    "                for c in 'ABCDEFGHIJKLMNOPQRSTUVWXYZ':\n",
    "                    key = rec[k][1] + c\n",
    "                    fullkey = key + 'A'*(KLEN-len(key))\n",
    "                    pt = Autokey(fullkey).decipher(ctext)\n",
    "                    score = 0\n",
    "                    for j in range(0,len(ctext),KLEN):\n",
    "                        score += qgram.score(pt[j:j+len(key)])\n",
    "                    next_rec.add((score,key,pt[:30]))\n",
    "            rec = next_rec\n",
    "            next_rec = nbest(N)\n",
    "        bestkey = rec[0][1]\n",
    "        pt = Autokey(bestkey).decipher(ctext)\n",
    "        bestscore = qgram.score(pt)\n",
    "        for i in range(N):\n",
    "            pt = Autokey(rec[i][1]).decipher(ctext)\n",
    "            score = qgram.score(pt)\n",
    "            if score > bestscore:\n",
    "                bestkey = rec[i][1]\n",
    "                bestscore = score\n",
    "        if pscore > bestscore:\n",
    "            pscore = bestscore\n",
    "            bestkey = rec[i][1]\n",
    "        print('Autokey Cryptanalysis, klen',KLEN,':\"'+bestkey+'\",',Autokey(bestkey).decipher(ctext))\n",
    "    \n"
   ]
  },
  {
   "cell_type": "code",
   "execution_count": 14,
   "metadata": {
    "collapsed": false
   },
   "outputs": [
    {
     "name": "stdout",
     "output_type": "stream",
     "text": [
      "Autokey Cryptanalysis, klen 3 :\"EXL\", SSEHSOYBROAZTACPEGCROTTWAJPSESZNNDSFWAPYKXCOFSUZBIMBMWUKJHHD\n",
      "Autokey Cryptanalysis, klen 4 :\"OLVS\", IEUHCOLMDYQEECLEAGGRUPETZNHZOUKSRIVAIKZUCCBEASHATKECBYRUEDAS\n",
      "Autokey Cryptanalysis, klen 5 :\"CKJIJ\", UFGRBYANOLDQUMQFOOFFPHWFONEWITENJUMOMJAIWARYUYINVINUHNNJLUEZ\n",
      "Autokey Cryptanalysis, klen 6 :\"UPXRHD\", CASIDPDTNEYBEHOEGHNOGREDGOFBJELDABWOOPUTOYMJIBUGHTDBACODCARK\n",
      "Autokey Cryptanalysis, klen 7 :\"EWANUYB\", STPMQUEBMXPANWAWHTRIYVODALDUSTORUZLAGEDALBASYRITSCTEDACEDINJ\n",
      "Autokey Cryptanalysis, klen 8 :\"DHMQHKXL\", TIDJDIIIMEYHESTASETOQDRKBYSEXEAHEENOCOUNGINKAGORNUYSUCHFSHTU\n",
      "Autokey Cryptanalysis, klen 9 :\"ROTLWIQTO\", FBWOOKPARHAUTMRTERKVACYTAYUISHPTMCHYRANFRAYREDIROLLEDESOONGB\n",
      "Autokey Cryptanalysis, klen 10 :\"PHILOSOPHY\", HIHOWAREYOUIAMFINETHANKYOUYOUAREVERYBEAUTIFULWHATISUPOKAYBYE\n",
      "Autokey Cryptanalysis, klen 11 :\"IPQSVOQQBHX\", OAZHPEPDEFECHBUTATORPRIDSISSUTACOUCARACARMYKISINTALLIKLONTET\n",
      "Autokey Cryptanalysis, klen 12 :\"BDFRXNOLFZJY\", VMKINFRIANSSMORARDANUISSHOUSWERELUNASEACOIJURAVEBYLAGAMCOBWI\n",
      "Autokey Cryptanalysis, klen 13 :\"ACMKGOYTCUFIF\", WNDPEEHADSWICEOFPENOUSSOLAHEISNERINALHUNGEILYDARTREIHCROUDOM\n",
      "Autokey Cryptanalysis, klen 14 :\"IHCVYOFQCEIIOM\", OINEMEADDITITONAREFRUSHCAUSEAHANALLASQUASIARCHITICTMAIDOFKPF\n"
     ]
    }
   ],
   "source": [
    "autokey_cryptanalysis(15,'WPPZKSFTFMBQHABIEIRVUVKKTCLSNHRRFCFSZSUUKMAYCUIETCLCUIVWFBRM')"
   ]
  },
  {
   "cell_type": "code",
   "execution_count": 15,
   "metadata": {
    "collapsed": false
   },
   "outputs": [
    {
     "name": "stdout",
     "output_type": "stream",
     "text": [
      "Autokey Cryptanalysis, klen 3 :\"ASR\", UKAOGTHPDUWYPIXGEDGMCYNTBYVUNJSVAZVAABLFAMFGUARPUBIDSTSJMZKANFWIPBIXATTIVJXPSRMIOOZWRPLWGYQGBDTATDATVW\n",
      "Autokey Cryptanalysis, klen 4 :\"LNDB\", JPOHHEHOPXENUHRISTVINLENMAKIZECAKNOAPJXFMONBURKIABNPTAIMMRLAAYLVUZFRHCLRHAUTUOHHLMADUCHKBHFCYMUZYKGNAM\n",
      "Autokey Cryptanalysis, klen 5 :\"DAKMI\", RCHWICTOATJIVECMEFIOTAUNLSOBYTUUITXGFOSIVSWOYKFNGUNSGVBONLYLYCLXJZOBESRUNYNTHBDNMTGHSCOHORKYSFIRYEVEHY\n",
      "Autokey Cryptanalysis, klen 6 :\"QGIZZF\", EWJJRORZNSUNSFIDSNULXBHIFARUEWHISXMESOTIPTSSNXIQCAKALLTBVRIBTOBEMWXYAXEMREFNXCKWANKIVSHALBRUSTOAFCITKW\n",
      "Autokey Cryptanalysis, klen 7 :\"HTQPJMC\", NJBTHHTINASUCLNIMISOURRJRTABUNDRQRPGMTUPKIEUNLIZMODKITWPROJETTHEGOMTIUMCAQMCHCZAPOFDDPHYHEJJKMBUSNRCMV\n",
      "Autokey Cryptanalysis, klen 8 :\"COMPUTER\", SOFTWAREENGINEERINGISAVERYINTERESTINGSUBJECTANDILOVETOSTUDYITBECAUSEIAMGOINGTOPURSUEMASTERSINTHISFIELD\n",
      "Autokey Cryptanalysis, klen 9 :\"SPEVUPZDE\", CNNNWEWSSZYOWIRZUINSRIREARGITNERFRZURDYBKSTHMOULTIFEMPHHUYLHIDHONDSBUTNBAPCSAUINEASINONFIFMURGLOROVAEF\n",
      "Autokey Cryptanalysis, klen 10 :\"AMQIWBCMEY\", UQBAUSTJSDRLIEBDTRUNOTRRYIVERRYPSASSESUODISGONTRAEUPBVHOMATISAVANJEMITYITCSBXCTHHSOINNKLCCFULLMOMLYKTC\n",
      "Autokey Cryptanalysis, klen 11 :\"UMFGJRVBOJS\", AQMCHCAUISTBTSTOKASINLYCHSALLMEVYTOTHWAUPTPINRECYSDIAMNOONROUMOVIKCYOKCOCOKCRMDMVYTIREFWJGARBARKSREDSW\n",
      "Autokey Cryptanalysis, klen 12 :\"TQDVWNRKVXYX\", BMONUGELBENEISHISUIFEAMRRTHNTKEDFREJIDESINGDBOTAMPTFLOPYEDAMAADQJJBOXYQWOCCUSFAMICRORMFTDEMARRINFKVTVS\n",
      "Autokey Cryptanalysis, klen 13 :\"DUFEUMNDDKLVF\", RIMEWHISTRAGENNJIEFINLIVTHBICWIDBEFSEDEETVOYDETECOUTPIANHOPTINIBBIIMOUCTVUSCANTSTMNIMTNVTJZTHANOOKHZDD\n",
      "Autokey Cryptanalysis, klen 14 :\"HSDXEFEDCKGBJS\", NKOLMORSURFAAMILYPACOMFEULOJDTOTJPCOUSRUNOHNSMOUSEDFCHINYEBAYVERRSOFTOSENCHPXXKIRVOWNKULOUPPPLIGIANCEL\n",
      "Autokey Cryptanalysis, klen 15 :\"GQNGMWCHJQNJVRZ\", OMECEXTONLYSONWHAWKMILLIONWHYIFINHESOLDROBDIYAPWNOFJIYENEOLOMAAIGSHEDXDEARRYBOTUNTDHILDNESOLLAFODTTENT\n",
      "Autokey Cryptanalysis, klen 16 :\"QPNFZLAREUHKQTRP\", ENEDRIVESHERTLEGININOWERHEKESTICBEINLAHOUTACOMPHTOPKIBONLYTKYDHOBJBCTACVDEMADLUMERGIMOFSSFAMWIFPSFUEMI\n",
      "Autokey Cryptanalysis, klen 17 :\"HKJVKLICRNUDYUNSJ\", NSINGINTFORYLKIDDNUISYRIGGAENTCAGODGRENOTREGCSEHUMJUNKRORYCIGNERNDEDHOGRALHITIOWONEGCHTHEJBFRARNAINISU\n",
      "Autokey Cryptanalysis, klen 18 :\"SOGXSCNJKXDPFCBIBA\", COLLYRIMMEIMECUNLAKCUTBERZCRDSIGPEFAPURMATTHEOURMMITOBGHOFTTTISHAGEATICHIVRFIVISNTHEBOOFTCERIORGOENTRS\n",
      "Autokey Cryptanalysis, klen 19 :\"RXOUDMNLSJHZFNXNAOI\", DFDONHIKESECERYIMMENABLISDERTAKESTIONSYFAMCODBGQUITFATHONTOMANISTRASTILIVVRXIAPASSPROOPUNYERECCTWHAUGH\n"
     ]
    }
   ],
   "source": [
    "autokey_cryptanalysis(20,'UCRIQTVVWBLBJEVVMAMQFEZVZLOVLEMIJRQAZWLFBXKGGFXJUSXXTBVBFRTMMPWVUXQMBBQIOCFKBOBAFAHKFOHNVJMMZTZBWWAMYW')"
   ]
  },
  {
   "cell_type": "code",
   "execution_count": 16,
   "metadata": {
    "collapsed": false
   },
   "outputs": [
    {
     "name": "stdout",
     "output_type": "stream",
     "text": [
      "Autokey Cryptanalysis, klen 3 :\"MEN\", USQGLIHEQIETSOIGCYUGQOAPEMQIZLAAUBUDPHIRYRUHZSYZAMSULEYJFSTOSOFBWOSOHZ\n",
      "Autokey Cryptanalysis, klen 4 :\"OMQB\", SKNZLOAQNBITNRTFDPHDLTZCHTGKEICPBTSIPITYQRSHAVNRSPEDFHOREJOCGYFREVOTRW\n",
      "Autokey Cryptanalysis, klen 5 :\"YWOWK\", IAPETQNAUWSWAYFGUGCDIOADPERMIMEITTITIISYMRDNSAOVFSRGCRADDOLTHEFIRMPFNA\n",
      "Autokey Cryptanalysis, klen 6 :\"AFVFZC\", GRIVEWHYQUENTULEMTHODEUMLYCIRPXBDTDITAINCRSFIZDHAFJVUPSPAVIESSTYCPBSCT\n",
      "Autokey Cryptanalysis, klen 7 :\"GDQCUVJ\", ATNYJDEPFCKAXOMTOWALAWNRWMUMPORDTHIICKINYRDDGESABHOOTESTCCOAGPARIFTEGR\n",
      "Autokey Cryptanalysis, klen 8 :\"GJDGKKDL\", ANAUTOKEYCIPHERUSESTHEPLAINTEXTOFTHEMESSAGEBEINGSENTTOFORMPARTOFTHEKEY\n",
      "Autokey Cryptanalysis, klen 9 :\"NZMAFYADF\", TXRAYANMTWLSAUBLENEXWIMEHISIOFANBUMFINGGSYRTLESSMSTDELOCREKAHDIFICPAVK\n",
      "Autokey Cryptanalysis, klen 10 :\"SEWAMYAHCK\", OSHARANIWFURTSKYDYEDURNNIOCOHYOISOMJONEIRRTREDRLOCADEFORSFORKEPOWCBFHA\n",
      "Autokey Cryptanalysis, klen 11 :\"DPZTBQAXDHE\", DHEHCINSVIEGTOUWITINGEAMESJESTVTBBITYSHOMESEPEMAADDITEOFFECTHELAGFOFRP\n",
      "Autokey Cryptanalysis, klen 12 :\"UXJOLYNNRHFQ\", MZUMSAACHIDTOTHMYGAGHADMETYANVITYBRLMINGSEDMSLONGCEOFSPIRFOGEFPFFBECEM\n",
      "Autokey Cryptanalysis, klen 13 :\"RHJHFLJIECCBW\", PPUTYNEHUNGIEDMEXINEHOTZKICAHEAMBUGERRDEFSHFELLSOTARTRANEMRISTATTACKIN\n",
      "Autokey Cryptanalysis, klen 14 :\"MWQLVYBLUYIYMO\", UANPIAMEERALOEHYDRSICECOSBRIEDFINTSTONTFORHCLESFARDHEREDCORPSCTCHMPTRO\n"
     ]
    }
   ],
   "source": [
    "autokey_cryptanalysis(15,'GWDADYNPYPIJASBYQGAIOIGFSMFMLBIZFBUXQBLGFZLFQMFYSKRUXWSUJQCTKHTTKTTKVR')"
   ]
  },
  {
   "cell_type": "code",
   "execution_count": 17,
   "metadata": {
    "collapsed": false
   },
   "outputs": [
    {
     "name": "stdout",
     "output_type": "stream",
     "text": [
      "Autokey Cryptanalysis, klen 3 :\"MEN\", USQGLIHEQIETSOIGCYUGQOAPEMQIZLAAUBUDPHIRYRUHZSYZAMSULEYJFSTOSOFBWOSOHZ\n",
      "Autokey Cryptanalysis, klen 4 :\"OMQB\", SKNZLOAQNBITNRTFDPHDLTZCHTGKEICPBTSIPITYQRSHAVNRSPEDFHOREJOCGYFREVOTRW\n",
      "Autokey Cryptanalysis, klen 5 :\"YWOWK\", IAPETQNAUWSWAYFGUGCDIOADPERMIMEITTITIISYMRDNSAOVFSRGCRADDOLTHEFIRMPFNA\n",
      "Autokey Cryptanalysis, klen 6 :\"AFVFZC\", GRIVEWHYQUENTULEMTHODEUMLYCIRPXBDTDITAINCRSFIZDHAFJVUPSPAVIESSTYCPBSCT\n",
      "Autokey Cryptanalysis, klen 7 :\"GDQCUVJ\", ATNYJDEPFCKAXOMTOWALAWNRWMUMPORDTHIICKINYRDDGESABHOOTESTCCOAGPARIFTEGR\n",
      "Autokey Cryptanalysis, klen 8 :\"GJDGKKDL\", ANAUTOKEYCIPHERUSESTHEPLAINTEXTOFTHEMESSAGEBEINGSENTTOFORMPARTOFTHEKEY\n"
     ]
    }
   ],
   "source": [
    "autokey_cryptanalysis(9,'GWDADYNPYPIJASBYQGAIOIGFSMFMLBIZFBUXQBLGFZLFQMFYSKRUXWSUJQCTKHTTKTTKVR')"
   ]
  },
  {
   "cell_type": "code",
   "execution_count": 3,
   "metadata": {
    "collapsed": false
   },
   "outputs": [
    {
     "name": "stdout",
     "output_type": "stream",
     "text": [
      "Autokey Cryptanalysis, klen 3 :\"GSW\", CANGQLGNTVIBEJUSYSDAAFBUBYNXKAPYYPKMWSJMWZAFOIIKCKCKDHCDTJSPDTSPWRIQPXSCDYJELTLKVAGRNSHAPIDPLLITBYUNZR\n",
      "Autokey Cryptanalysis, klen 4 :\"KZFW\", YTEMSFIRMWNDNVITURNFYROPIITJAFTZYZPLNDGXBFGEMDHUYPFSPUHOLROUBUTYOPEOSQEDIAHEBCIRNJIVAPQSHANMMOKSASDWXT\n",
      "Autokey Cryptanalysis, klen 5 :\"XYREZ\", LUSERNSLAKICORLOFYENEDDQTVEVSUREDMOTHZJUVBNSTNMLSZZACRNHAJEVFLYOUEMOSLEFMYADEQRVLHAVSNRNMXQNGCAOZALOJM\n",
      "Autokey Cryptanalysis, klen 6 :\"VTXEVQ\", NZMEVIZESXAMANDZHAVLPJUULOSPOTBUGPURKIPTURCTYPTHIZOXUCEHMOBGIEVEODPILBUOLIAGPOENOFBYJLKIGRUTJGRNSNEIGY\n",
      "Autokey Cryptanalysis, klen 7 :\"WSKXQKG\", MAZLAOGRECKULLESFCBNHEJPEYUREEXEAKRGHFRIERGUIRFUTMSEWESNOTRMITUEWSLENLEVIFHUYYUNJEWOPELEDTPPPDTBTRYZUS\n",
      "Autokey Cryptanalysis, klen 8 :\"ZPSOILKP\", JDRUINCOVYEARETIMORYBEIMULQAHJEWETSKETRMKPURJPWMADSVEUQUAIDNIRRYPBUZYORTLPRILOYCDWZECKALETEAREXTINJOGH\n",
      "Autokey Cryptanalysis, klen 9 :\"BEPVSFSSX\", HOUNYTULHUHAMTCCWFBRSWISEDCXRVQAGAFIOLASOCMWFUCYSEKARESECTRYMUDALHEVITOOAFEDOUWHALLIKKERAPSTLENAVGYWEA\n",
      "Autokey Cryptanalysis, klen 10 :\"TGFVYGSRPJ\", PMENSSUMPSGIVEDENAGGMAGQDVUYCHAISOFPRETBOAUNITWURRYMTWENEREROZOWLWTVCOUSMUALQHNHUTESNNIGUIJLPWKREATGOA\n",
      "Autokey Cryptanalysis, klen 11 :\"ANJVNJIAQKR\", IFANDPEDOREMURITSISKBEPAPROGAVCHUPIVUOPITGFHYASEWDETHEFIATRMJHOLLEPMNOWITCAWFNDIAPITLYCIUMVEEGETOEFULQ\n",
      "Autokey Cryptanalysis, klen 12 :\"PJSODFSZFTGG\", TJRUNTUEZIPOGIECUTBUTAMGARDWOULOFEWELLSMAOBNIERUZHUANVLTSHEONENSCOMTOYEDNMYPHODCANMJAMAYABACTBLVMUNQXK\n",
      "Autokey Cryptanalysis, klen 13 :\"FORTIFICATION\", DESPITEBEINGMORESECURETHANTHEVIGENERECIPHERTHEAUTOKEYCIPHERISSTILLVERYEASYTOBREAKUSINGAUTOMATEDMETHODS\n",
      "Autokey Cryptanalysis, klen 14 :\"VOQQOYIHDPRVSO\", NETSCAEWBMEZHDISOUTYOMAICAAVAVYOFGUYLUTIONMGPUISQUBSUBYTOFGOETRYORDLIMUMUCHOSEBELAIATMELABLASKMEEGUCTA\n"
     ]
    }
   ],
   "source": [
    "autokey_cryptanalysis(15,'isjiqymdebvuzrvwhmvysibugzhyinmiyeiklcvioimbninyksmmnjmgalvimlhspjxmgfiraqlhjcpvolqmnyynhpdetoxemgnoxl')"
   ]
  },
  {
   "cell_type": "code",
   "execution_count": null,
   "metadata": {
    "collapsed": true
   },
   "outputs": [],
   "source": []
  }
 ],
 "metadata": {
  "anaconda-cloud": {},
  "kernelspec": {
   "display_name": "Python [default]",
   "language": "python",
   "name": "python3"
  },
  "language_info": {
   "codemirror_mode": {
    "name": "ipython",
    "version": 3
   },
   "file_extension": ".py",
   "mimetype": "text/x-python",
   "name": "python",
   "nbconvert_exporter": "python",
   "pygments_lexer": "ipython3",
   "version": "3.5.2"
  }
 },
 "nbformat": 4,
 "nbformat_minor": 1
}
