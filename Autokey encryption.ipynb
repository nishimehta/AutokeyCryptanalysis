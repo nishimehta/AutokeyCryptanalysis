{
 "cells": [
  {
   "cell_type": "code",
   "execution_count": 2,
   "metadata": {
    "collapsed": false
   },
   "outputs": [
    {
     "name": "stdout",
     "output_type": "stream",
     "text": [
      "enter message:\n",
      "anautokeycipherusestheplaintextofthemessagebeingsenttoformpartofthekey\n",
      "enter your key:\n",
      "gjdgkkdl\n",
      "encrypt or decrypt\n",
      "encrypt\n",
      "GWDADYNPYPIJASBYQGAIOIGFSMFMLBIZFBUXQBLGFZLFQMFYSKRUXWSUJQCTKHTTKTTKVR\n"
     ]
    }
   ],
   "source": [
    "ALPHA = 'ABCDEFGHIJKLMNOPQRSTUVWXYZ'\n",
    "\n",
    "def main():\n",
    "    message = input('enter message:\\n')\n",
    "    key = input('enter your key:\\n')\n",
    "    mode = input('encrypt or decrypt\\n')\n",
    "    ## if len(key) < len(message):\n",
    "        ## key = key[0:] + message[:100]\n",
    "    #print(key)\n",
    "    cipher=''\n",
    "    if mode == 'encrypt':\n",
    "       cipher = encryptMessage(message, key)\n",
    "    elif mode == 'decrypt':\n",
    "       cipher = decryptMessage(message, key)\n",
    "    #print(' message:',  (mode.title()))\n",
    "    print(cipher)\n",
    "\n",
    "\n",
    "## def encryptMessage (keys, messages):\n",
    "##     return cipherMessage(keys, messages, 'encrypt')\n",
    "def encryptMessage (messages, keys):  \n",
    "    return cipherMessage(messages, keys, 'encrypt')\n",
    "\n",
    "\n",
    "## def decryptMessage(keys,messages):\n",
    "##     return cipherMessage(keys, messages, 'decrypt')\n",
    "def decryptMessage(messages, keys):\n",
    "    return cipherMessage(messages, keys, 'decrypt')\n",
    "\n",
    "\n",
    "## def cipherMessage (keys, messages, mode):\n",
    "def cipherMessage (messages, keys, mode):\n",
    "    cipher = []\n",
    "    k_index = 0\n",
    "    key = keys.upper()\n",
    "    for i in messages:\n",
    "        text = ALPHA.find(i.upper())\n",
    "        ## if text != -1:\n",
    "        if mode == 'encrypt':\n",
    "             text += ALPHA.find(key[k_index])\n",
    "             key += i.upper()  # add current char to keystream\n",
    "\n",
    "        elif mode == 'decrypt':\n",
    "             text -= ALPHA.find(key[k_index])\n",
    "             key += ALPHA[text]  # add current char to keystream\n",
    "        text %= len(ALPHA)\n",
    "        ## k_index += -1\n",
    "        k_index += 1\n",
    "        ## if k_index == len(key):\n",
    "        ##     k_index = 0\n",
    "        ## else:\n",
    "        cipher.append(ALPHA[text])\n",
    "    return ''.join(cipher)\n",
    "\n",
    "if __name__ == \"__main__\":\n",
    "    main()"
   ]
  },
  {
   "cell_type": "code",
   "execution_count": 10,
   "metadata": {
    "collapsed": false
   },
   "outputs": [
    {
     "name": "stdout",
     "output_type": "stream",
     "text": [
      "enter message:\n",
      "softwareengineeringisaveryinterestingsubjectandilovetostudyitbecauseiamgoingtopursuemastersinthisfield\n",
      "enter your key:\n",
      "computer\n",
      "encrypt or decrypt\n",
      "encrypt\n",
      "UCRIQTVVWBLBJEVVMAMQFEZVZLOVLEMIJRQAZWLFBXKGGFXJUSXXTBVBFRTMMPWVUXQMBBQIOCFKBOBAFAHKFOHNVJMMZTZBWWAMYW\n"
     ]
    }
   ],
   "source": [
    "main()"
   ]
  },
  {
   "cell_type": "code",
   "execution_count": null,
   "metadata": {
    "collapsed": true
   },
   "outputs": [],
   "source": []
  }
 ],
 "metadata": {
  "anaconda-cloud": {},
  "kernelspec": {
   "display_name": "Python [default]",
   "language": "python",
   "name": "python3"
  },
  "language_info": {
   "codemirror_mode": {
    "name": "ipython",
    "version": 3
   },
   "file_extension": ".py",
   "mimetype": "text/x-python",
   "name": "python",
   "nbconvert_exporter": "python",
   "pygments_lexer": "ipython3",
   "version": "3.5.2"
  }
 },
 "nbformat": 4,
 "nbformat_minor": 1
}
